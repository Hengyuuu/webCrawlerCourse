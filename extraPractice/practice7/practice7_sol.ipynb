{
 "cells": [
  {
   "cell_type": "code",
   "execution_count": 6,
   "id": "5bdc2240",
   "metadata": {},
   "outputs": [],
   "source": [
    "from selenium import webdriver\n",
    "from selenium.webdriver.common.keys import Keys\n",
    "from selenium.webdriver.chrome.service import Service\n",
    "from selenium.webdriver.common.by import By\n",
    "import time\n",
    "from bs4 import BeautifulSoup\n",
    "\n",
    "s = Service(\"./chromedriver.exe\")\n",
    "driver = webdriver.Chrome(service=s)\n",
    "\n",
    "driver.get('https://statementdog.com/')\n",
    "\n",
    "time.sleep(2)\n",
    "\n",
    "\n",
    "\n",
    "search_box = driver.find_element(By.NAME, 'stockid')\n",
    "search_box.send_keys('2330')\n",
    "\n",
    "btn = driver.find_element(By.CLASS_NAME, 'welcome-search-btn.stock-search-btn.icon-font-search')\n",
    "btn.click()\n",
    "\n",
    "\n",
    "company_info = driver.find_element(By.CLASS_NAME, 'company-latest-valuation-container')\n",
    "\n",
    "time.sleep(1)\n",
    "\n",
    "\n",
    "target_html = str(driver.page_source)"
   ]
  },
  {
   "cell_type": "code",
   "execution_count": 11,
   "id": "23dc271d",
   "metadata": {},
   "outputs": [
    {
     "name": "stdout",
     "output_type": "stream",
     "text": [
      "本益比(倍): 27.01\n",
      "殖利率(%): 1.80\n",
      "股價淨值比: 7.46\n",
      "11月營收YOY: 18.74\n",
      "近4季EPS: 22.10\n",
      "近4季ROE%: 29.67\n"
     ]
    }
   ],
   "source": [
    "soup = BeautifulSoup(target_html, 'html.parser')\n",
    "th_tags = soup.find_all(\"th\")\n",
    "td_tags = soup.find_all(\"td\")\n",
    "\n",
    "for index, i in enumerate(th_tags):\n",
    "    financial_index = th_tags[index].text.replace(' ','').strip()\n",
    "    financial_value = td_tags[index].text.replace(' ','').strip()\n",
    "    print(financial_index+': '+financial_value)"
   ]
  },
  {
   "cell_type": "code",
   "execution_count": null,
   "id": "f2e55ee7",
   "metadata": {},
   "outputs": [],
   "source": []
  }
 ],
 "metadata": {
  "kernelspec": {
   "display_name": "Python 3 (ipykernel)",
   "language": "python",
   "name": "python3"
  },
  "language_info": {
   "codemirror_mode": {
    "name": "ipython",
    "version": 3
   },
   "file_extension": ".py",
   "mimetype": "text/x-python",
   "name": "python",
   "nbconvert_exporter": "python",
   "pygments_lexer": "ipython3",
   "version": "3.8.10"
  }
 },
 "nbformat": 4,
 "nbformat_minor": 5
}
