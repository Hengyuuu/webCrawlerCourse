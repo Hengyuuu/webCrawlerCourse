{
 "cells": [
  {
   "cell_type": "code",
   "execution_count": 30,
   "metadata": {},
   "outputs": [
    {
     "name": "stdout",
     "output_type": "stream",
     "text": [
      "title:老闆要我什麼都要會…包括接他女兒下課卻只願意給28K, link:https://money.udn.com/money/story/5612/6341527?from=edn_newest_index\n",
      "title:萬海股利配發歷年最高全年營運仍朝超越去年努力邁進, link:https://money.udn.com/money/story/5612/6341520?from=edn_newest_index\n",
      "title:港股開盤下跌北京穩經濟談話沒作用, link:https://money.udn.com/money/story/5604/6341518?from=edn_newest_index\n",
      "title:衛福部：快篩陰有症狀應求診判斷不必一日快篩多次, link:https://money.udn.com/money/story/7307/6341515?from=edn_newest_index\n"
     ]
    }
   ],
   "source": [
    "# -*- coding: utf-8 -*-\n",
    "import requests\n",
    "from bs4 import BeautifulSoup\n",
    "import re\n",
    "\n",
    "\n",
    "new_list = []\n",
    "url = 'https://money.udn.com/money/index'\n",
    "\n",
    "## 1.填寫headers\n",
    "headers = {'User-Agent':'Mozilla/5.0 (Windows NT 10.0; Win64; x64; rv:100.0) Gecko/20100101 Firefox/100.0'}\n",
    "\n",
    "response = requests.get(url, headers=headers)\n",
    "soup = BeautifulSoup(response.text, 'html.parser')\n",
    "# print(response.text)\n",
    "\n",
    "## 2.抓取即時區域所有新聞title以及新聞內容連結link，並將每篇新聞的連結link append到new_list內\n",
    "story_title = soup.find_all('div', {'class':'story__list'})\n",
    "\n",
    "# print(story_title[0])\n",
    "\n",
    "soup2 = BeautifulSoup(str(story_title[0]), 'html.parser')\n",
    "a_tags = soup2.find_all('a')\n",
    "\n",
    "for i in a_tags:\n",
    "    print('title:{}, link:{}'.format(i.text.replace(' ','').replace('\\n',''),'https://money.udn.com'+i['href']))\n",
    "    new_list.append('https://money.udn.com'+i['href'])"
   ]
  },
  {
   "cell_type": "code",
   "execution_count": 1,
   "metadata": {},
   "outputs": [
    {
     "ename": "SyntaxError",
     "evalue": "invalid syntax (<ipython-input-1-970bdadfeeea>, line 17)",
     "output_type": "error",
     "traceback": [
      "\u001b[1;36m  File \u001b[1;32m\"<ipython-input-1-970bdadfeeea>\"\u001b[1;36m, line \u001b[1;32m17\u001b[0m\n\u001b[1;33m    headers =\u001b[0m\n\u001b[1;37m              ^\u001b[0m\n\u001b[1;31mSyntaxError\u001b[0m\u001b[1;31m:\u001b[0m invalid syntax\n"
     ]
    }
   ],
   "source": [
    "from time import sleep\n",
    "import os\n",
    "from bs4 import BeautifulSoup\n",
    "from urllib.request import urlretrieve\n",
    "\n",
    "def createFolder(directory):\n",
    "    try:\n",
    "        if not os.path.exists(directory):\n",
    "            os.makedirs(directory)\n",
    "    except OSError:\n",
    "        print ('Error: Creating directory. ' +  directory)\n",
    "\n",
    "        \n",
    "def save_news(url):\n",
    "    \n",
    "    ## 3.填寫headers\n",
    "    headers = {'User-Agent':'Mozilla/5.0 (Windows NT 10.0; Win64; x64; rv:100.0) Gecko/20100101 Firefox/100.0'}\n",
    "    response = requests.get(url, headers=headers)\n",
    "    sleep(1)\n",
    "    \n",
    "    soup = BeautifulSoup(response.text, 'html.parser')\n",
    "    ## 4. 使用find_all去抓取每篇新聞的title(指定是哪個tag以及指定id)，將結果所產生之list放到new_title變數內\n",
    "    allTitle = soup.find_all('div', {'class':'story__list'})\n",
    "    \n",
    "    save_path = './news/'+new_title[0].text.replace(':','')\n",
    "    \n",
    "    article_body = soup.find_all('section',{'id':'article_body'})\n",
    "    print('new title: {}'.format(new_title[0].text))\n",
    "\n",
    "    ## create folder\n",
    "    createFolder(save_path)\n",
    "    soup2 = BeautifulSoup(str(article_body[0]), 'html.parser')\n",
    "\n",
    "\n",
    "    ## save article contens in folder\n",
    "    with open(save_path+'/contents.txt', 'w', encoding='utf-8') as f:  \n",
    "        ## 5. 抓取文章內p tags，並將新聞內文寫入contents.txt檔案內\n",
    "        print('new content: ')\n",
    "        for i in p_tags:\n",
    "            print(i.text)\n",
    "            f.write(i.text)\n",
    "\n",
    "    ## save image in article        \n",
    "    \n",
    "    ## 6. 抓取文章內所有img tags，並將圖片下載並存入對應新聞資料夾下\n",
    "    print('save image: ')\n",
    "    for index, i in enumerate(img_tags):\n",
    "        print(i['src'])\n",
    "        urlretrieve(i['src'], save_path+'/'+str(index)+'.jpg')\n",
    "    print('==========\\n\\n')\n",
    "    \n",
    "\n",
    "for new_url in new_list:\n",
    "    print(new_url)\n",
    "    save_news(new_url)"
   ]
  },
  {
   "cell_type": "code",
   "execution_count": null,
   "metadata": {},
   "outputs": [],
   "source": []
  }
 ],
 "metadata": {
  "kernelspec": {
   "display_name": "Python 3 (ipykernel)",
   "language": "python",
   "name": "python3"
  },
  "language_info": {
   "codemirror_mode": {
    "name": "ipython",
    "version": 3
   },
   "file_extension": ".py",
   "mimetype": "text/x-python",
   "name": "python",
   "nbconvert_exporter": "python",
   "pygments_lexer": "ipython3",
   "version": "3.8.13"
  }
 },
 "nbformat": 4,
 "nbformat_minor": 4
}
