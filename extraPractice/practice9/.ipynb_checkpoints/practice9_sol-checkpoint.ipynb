{
 "cells": [
  {
   "cell_type": "code",
   "execution_count": 17,
   "id": "669e9a65",
   "metadata": {},
   "outputs": [
    {
     "name": "stdout",
     "output_type": "stream",
     "text": [
      "(數位 英)魔法滿屋 (普遍級)\n",
      "(尖叫場)2GETHER 電影版 : 只因我們天生一對 (保護級)\n",
      "(數位)2GETHER 電影版：只因我們天生一對 (保護級)\n",
      "(數位)美國女孩 (普遍級)\n",
      "(數位)大紅狗克里弗 (普遍級)\n",
      "(數位)我讓最想被擁抱的男人給威脅了 劇場版西班牙篇 (保護級)\n",
      "(數位)噩兆 (輔15級)\n",
      "(數位)永恆族 (保護級)\n",
      "(數位)FATEGRAND ORDER終局特異點 冠位時間神殿所羅門 (保護級)\n",
      "(數位)GIVEN 被贈與的未來 劇場版 反面的存在 (保護級)\n",
      "(數位)哈利波特：神秘的魔法石 (普遍級)\n",
      "(數位)電影KON 輕音部 (普遍級)\n",
      "(數位)電影版 狂賭之淵2：絕體絕命俄羅斯輪盤 (保護級)\n",
      "(數位)作家我就爛 (普遍級)\n",
      "(數位)惡靈古堡首部曲：拉昆市 (輔15級)\n",
      "(數位)蜘蛛人：無家日 (普遍級)\n",
      "(數位)刀劍神域劇場版 PROGRESSIVE 無星夜的詠嘆調 (輔12級)\n",
      "(數位)瀑布 (普遍級)\n",
      "(數位)法蘭西特派週報 (輔12級)\n",
      "(數位)金牌特務：金士曼起源 (輔15級)\n",
      "(數位)駭客任務：復活 (保護級)\n",
      "(數位)月老 (輔12級)\n",
      "(數位)一杯熱奶茶的等待 (保護級)\n",
      "(LIVE)寶塚歌劇 星組東京寶塚劇場公演『柳生忍法帖』『MORE DANDYISM』千秋樂 現場 (普遍級)\n"
     ]
    }
   ],
   "source": [
    "from selenium import webdriver\n",
    "from selenium.webdriver.common.keys import Keys\n",
    "from selenium.webdriver.chrome.service import Service\n",
    "from selenium.webdriver.common.by import By\n",
    "import time\n",
    "from bs4 import BeautifulSoup\n",
    "from selenium.webdriver.support.ui import Select\n",
    "\n",
    "s = Service(\"./chromedriver.exe\")\n",
    "driver = webdriver.Chrome(service=s)\n",
    "\n",
    "#s = Service(\"./geckodriver.exe\")\n",
    "#driver = webdriver.Firefox(service=s)\n",
    "\n",
    "driver.get(\"https://www.vscinemas.com.tw/ShowTimes/\")\n",
    "time.sleep(1)\n",
    "\n",
    "\n",
    "s1 = Select(driver.find_element(By.ID, 'CinemaNameTWInfoF'))\n",
    "s1.select_by_visible_text(\"台北京站威秀影城\")  \n",
    "time.sleep(1)\n",
    "movies_name = driver.find_elements(By.CLASS_NAME, 'col-xs-12.LangTW.MovieName')\n",
    "\n",
    "for i in movies_name:\n",
    "    print(i.text)\n",
    "\n",
    "\n",
    "\n",
    "\n",
    "driver.close() "
   ]
  },
  {
   "cell_type": "code",
   "execution_count": null,
   "id": "6f069f76",
   "metadata": {},
   "outputs": [],
   "source": []
  }
 ],
 "metadata": {
  "kernelspec": {
   "display_name": "Python 3 (ipykernel)",
   "language": "python",
   "name": "python3"
  },
  "language_info": {
   "codemirror_mode": {
    "name": "ipython",
    "version": 3
   },
   "file_extension": ".py",
   "mimetype": "text/x-python",
   "name": "python",
   "nbconvert_exporter": "python",
   "pygments_lexer": "ipython3",
   "version": "3.8.13"
  }
 },
 "nbformat": 4,
 "nbformat_minor": 5
}
