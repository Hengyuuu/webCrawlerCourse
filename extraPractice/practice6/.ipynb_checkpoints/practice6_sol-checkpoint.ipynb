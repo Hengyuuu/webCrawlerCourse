{
 "cells": [
  {
   "cell_type": "code",
   "execution_count": 1,
   "id": "3ef1f22f",
   "metadata": {},
   "outputs": [
    {
     "name": "stdout",
     "output_type": "stream",
     "text": [
      "[[1, \"Tomy\", \"m\"], [3, \"amy\", \"f\"]]\n"
     ]
    }
   ],
   "source": [
    "import requests\n",
    "from bs4 import BeautifulSoup\n",
    "\n",
    "# use get method to request  \n",
    "response = requests.get('http://127.0.0.1:5000/get_all_members')\n",
    "response.encoding = 'utf-8'\n",
    "\n",
    "print(response.text)"
   ]
  },
  {
   "cell_type": "code",
   "execution_count": 2,
   "id": "c3c7d2d1",
   "metadata": {},
   "outputs": [
    {
     "name": "stdout",
     "output_type": "stream",
     "text": [
      "[[\"amy\", \"f\"]]\n"
     ]
    }
   ],
   "source": [
    "# use get method to request  \n",
    "response = requests.get('http://127.0.0.1:5000/get_all_female_members')\n",
    "response.encoding = 'utf-8'\n",
    "\n",
    "print(response.text)"
   ]
  }
 ],
 "metadata": {
  "kernelspec": {
   "display_name": "Python 3 (ipykernel)",
   "language": "python",
   "name": "python3"
  },
  "language_info": {
   "codemirror_mode": {
    "name": "ipython",
    "version": 3
   },
   "file_extension": ".py",
   "mimetype": "text/x-python",
   "name": "python",
   "nbconvert_exporter": "python",
   "pygments_lexer": "ipython3",
   "version": "3.8.13"
  }
 },
 "nbformat": 4,
 "nbformat_minor": 5
}
