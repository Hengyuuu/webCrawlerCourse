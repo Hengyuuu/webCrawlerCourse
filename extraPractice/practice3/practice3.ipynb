{
 "cells": [
  {
   "cell_type": "markdown",
   "metadata": {},
   "source": [
    "# Please Crawl PTT content in the following page  \n",
    "link: https://www.ptt.cc/bbs/movie/M.1586525586.A.891.html"
   ]
  },
  {
   "cell_type": "code",
   "execution_count": 16,
   "metadata": {},
   "outputs": [
    {
     "name": "stdout",
     "output_type": "stream",
     "text": [
      "<div class=\"bbs-screen bbs-content\" id=\"main-content\"><div class=\"article-metaline\"><span class=\"article-meta-tag\">作者</span><span class=\"article-meta-value\">SUANG0213 (批踢踢蟲蟲)</span></div><div class=\"article-metaline-right\"><span class=\"article-meta-tag\">看板</span><span class=\"article-meta-value\">movie</span></div><div class=\"article-metaline\"><span class=\"article-meta-tag\">標題</span><span class=\"article-meta-value\">[請益] 一級玩家4DX 還是4DX 3D？</span></div><div class=\"article-metaline\"><span class=\"article-meta-tag\">時間</span><span class=\"article-meta-value\">Fri Apr 10 21:33:04 2020</span></div>\n",
      "大家安安\n",
      "最近一級玩家重新上映了\n",
      "聽大家都推爆4DX的版本\n",
      "小弟真的超期待\n",
      "但剛剛要訂票發現有還有4DX 3D的選項\n",
      "因為自己沒看過太多3D片\n",
      "想問如果是這部的話3D有那個價值直接看下去嗎\n",
      "還是看一般的4DX就好？\n",
      "\n",
      "--\n",
      "<span class=\"f2\">※ 發信站: 批踢踢實業坊(ptt.cc), 來自: 39.12.94.50 (臺灣)\n",
      "</span><span class=\"f2\">※ 文章網址: <a href=\"https://www.ptt.cc/bbs/movie/M.1586525586.A.891.html\" rel=\"noreferrer noopener nofollow\" target=\"_blank\">https://www.ptt.cc/bbs/movie/M.1586525586.A.891.html</a>\n",
      "</span><span class=\"f2\">※ 編輯: SUANG0213 (39.12.94.50 臺灣), 04/10/2020 21:35:31\n",
      "</span><div class=\"push\"><span class=\"hl push-tag\">推 </span><span class=\"f3 hl push-userid\">j31404      </span><span class=\"f3 push-content\">: 3D 買下去啦</span><span class=\"push-ipdatetime\"> 04/10 21:49\n",
      "</span></div><div class=\"push\"><span class=\"hl push-tag\">推 </span><span class=\"f3 hl push-userid\">EMPCHOU     </span><span class=\"f3 push-content\">: 3D不錯</span><span class=\"push-ipdatetime\"> 04/10 22:03\n",
      "</span></div><div class=\"push\"><span class=\"hl push-tag\">推 </span><span class=\"f3 hl push-userid\">loveducky   </span><span class=\"f3 push-content\">: ㄧ定要3D</span><span class=\"push-ipdatetime\"> 04/10 22:33\n",
      "</span></div><div class=\"push\"><span class=\"hl push-tag\">推 </span><span class=\"f3 hl push-userid\">willyer     </span><span class=\"f3 push-content\">: 至少3D</span><span class=\"push-ipdatetime\"> 04/10 22:44\n",
      "</span></div><div class=\"push\"><span class=\"hl push-tag\">推 </span><span class=\"f3 hl push-userid\">tim7847     </span><span class=\"f3 push-content\">: 你只看過一次的話直接體驗4dx 3D啊，三刷過很不錯</span><span class=\"push-ipdatetime\"> 04/10 23:34\n",
      "</span></div><div class=\"push\"><span class=\"f1 hl push-tag\">→ </span><span class=\"f3 hl push-userid\">tim7847     </span><span class=\"f3 push-content\">: ！</span><span class=\"push-ipdatetime\"> 04/10 23:34\n",
      "</span></div><div class=\"push\"><span class=\"f1 hl push-tag\">→ </span><span class=\"f3 hl push-userid\">tim7847     </span><span class=\"f3 push-content\">: 更正*沒看過的話</span><span class=\"push-ipdatetime\"> 04/10 23:35\n",
      "</span></div><div class=\"push\"><span class=\"f1 hl push-tag\">→ </span><span class=\"f3 hl push-userid\">ilikeaa     </span><span class=\"f3 push-content\">: 3D imax</span><span class=\"push-ipdatetime\"> 04/10 23:43\n",
      "</span></div><div class=\"push\"><span class=\"hl push-tag\">推 </span><span class=\"f3 hl push-userid\">bleedk      </span><span class=\"f3 push-content\">: 強力推薦4Dx3D很值得</span><span class=\"push-ipdatetime\"> 04/11 02:55\n",
      "</span></div><div class=\"push\"><span class=\"hl push-tag\">推 </span><span class=\"f3 hl push-userid\">dogbydog    </span><span class=\"f3 push-content\">: 先看了3D後看了4DX  很有感覺</span><span class=\"push-ipdatetime\"> 04/11 09:43\n",
      "</span></div><div class=\"push\"><span class=\"f1 hl push-tag\">→ </span><span class=\"f3 hl push-userid\">dogbydog    </span><span class=\"f3 push-content\">: 4DX 3D飛行跟墜落感都很好</span><span class=\"push-ipdatetime\"> 04/11 09:43\n",
      "</span></div><div class=\"push\"><span class=\"hl push-tag\">推 </span><span class=\"f3 hl push-userid\">gama        </span><span class=\"f3 push-content\">: 這部3D效果還可以，景深等等有出來不是只有字幕30D</span><span class=\"push-ipdatetime\"> 04/11 14:13\n",
      "</span></div><div class=\"push\"><span class=\"f1 hl push-tag\">→ </span><span class=\"f3 hl push-userid\">DareJ       </span><span class=\"f3 push-content\">: 看過環太平洋跟阿凡達的人覺得玩家其實4dx還好</span><span class=\"push-ipdatetime\"> 04/11 16:17\n",
      "</span></div><div class=\"push\"><span class=\"f1 hl push-tag\">噓 </span><span class=\"f3 hl push-userid\">sp6ie061    </span><span class=\"f3 push-content\">: 到底為毛台中不上這部啊</span><span class=\"push-ipdatetime\"> 04/11 22:30\n",
      "</span></div><div class=\"push\"><span class=\"hl push-tag\">推 </span><span class=\"f3 hl push-userid\">ronin9354   </span><span class=\"f3 push-content\">: <a href=\"https://i.imgur.com/MdVdzs1.jpg\" rel=\"noreferrer noopener nofollow\" target=\"_blank\">https://i.imgur.com/MdVdzs1.jpg</a> 剛看完.超爽der</span><span class=\"push-ipdatetime\"> 04/12 17:55\n",
      "</span></div><div class=\"richcontent\"><img alt=\"\" loading=\"lazy\" src=\"https://cache.ptt.cc/c/https/i.imgur.com/MdVdzs1l.jpg?e=1653724259&amp;s=_c3cIg2gWK9RMGUnBW03CA\"/></div><div class=\"push\"><span class=\"f1 hl push-tag\">→ </span><span class=\"f3 hl push-userid\">ronin9354   </span><span class=\"f3 push-content\">: 開場飛車 後面的爆破戰鬥飛翔都超有感 大推4DX 3D</span><span class=\"push-ipdatetime\"> 04/12 17:57\n",
      "</span></div><div class=\"push\"><span class=\"hl push-tag\">推 </span><span class=\"f3 hl push-userid\">frice       </span><span class=\"f3 push-content\">: 超大螢幕3d &gt;&gt; 4dx &gt; 一般3d</span><span class=\"push-ipdatetime\"> 04/13 09:35\n",
      "</span></div><div class=\"push\"><span class=\"f1 hl push-tag\">→ </span><span class=\"f3 hl push-userid\">frice       </span><span class=\"f3 push-content\">: 但有超大4dx嗎？</span><span class=\"push-ipdatetime\"> 04/13 09:35\n",
      "</span></div><div class=\"push\"><span class=\"hl push-tag\">推 </span><span class=\"f3 hl push-userid\">orange91315 </span><span class=\"f3 push-content\">: 這樣影廳大 風扇距離太遠 吹不夠力 XDDD</span><span class=\"push-ipdatetime\"> 04/14 09:13\n",
      "</span></div></div>\n"
     ]
    }
   ],
   "source": [
    "# -*- coding: utf-8 -*-\n",
    "import requests\n",
    "from bs4 import BeautifulSoup\n",
    "import re\n",
    "\n",
    "url = 'https://www.ptt.cc/bbs/movie/M.1586525586.A.891.html'\n",
    "response = requests.get(url)\n",
    "\n",
    "# print(response.text)\n",
    "soup = BeautifulSoup(response.text, 'html.parser')\n",
    "# # get all tags with class = groupXXX \n",
    "# # print(soup)\n",
    "# all_class= soup.find_all(attrs=('span', {\"class\": \"article-metaline\"}))\n",
    "div_id= soup.find('div',{'id': \"main-content\"})\n",
    "# date_string = soup.find_all('span', {'class' : 'article-meta-value'})[-1].text\n",
    "\n",
    "print(div_id)\n",
    "\n",
    "## write your code here"
   ]
  },
  {
   "cell_type": "code",
   "execution_count": null,
   "metadata": {},
   "outputs": [],
   "source": [
    "%matplotlib inline\n",
    "from wordcloud import WordCloud\n",
    "import jieba\n",
    "import matplotlib.pyplot as plt \n",
    "\n",
    "## write your code here"
   ]
  },
  {
   "cell_type": "code",
   "execution_count": null,
   "metadata": {},
   "outputs": [],
   "source": []
  }
 ],
 "metadata": {
  "kernelspec": {
   "display_name": "Python 3 (ipykernel)",
   "language": "python",
   "name": "python3"
  },
  "language_info": {
   "codemirror_mode": {
    "name": "ipython",
    "version": 3
   },
   "file_extension": ".py",
   "mimetype": "text/x-python",
   "name": "python",
   "nbconvert_exporter": "python",
   "pygments_lexer": "ipython3",
   "version": "3.8.13"
  }
 },
 "nbformat": 4,
 "nbformat_minor": 4
}
