{
 "cells": [
  {
   "cell_type": "code",
   "execution_count": null,
   "id": "3b5a2230",
   "metadata": {},
   "outputs": [],
   "source": [
    "x = str(5)\n",
    "y = int(5)\n",
    "z = float(5)\n",
    "print(type(x))\n",
    "print(type(y))\n",
    "print(type(z))\n"
   ]
  },
  {
   "cell_type": "code",
   "execution_count": null,
   "id": "90248280",
   "metadata": {},
   "outputs": [],
   "source": [
    "fruits = [\"apple\", \"banana\", \"cherry\"]\n",
    "first = fruits[0]\n",
    "second = fruits[1]\n",
    "third = fruits[2]\n",
    "print(first)\n",
    "print(second)\n",
    "print(third)"
   ]
  },
  {
   "cell_type": "code",
   "execution_count": null,
   "id": "06c1c569",
   "metadata": {},
   "outputs": [],
   "source": [
    "x = \"awesome\"\n",
    "def myFunc():\n",
    "    global x \n",
    "    x = \"fantastic\"\n",
    "#     print(\"Python is \" + x)\n",
    "myFunc()\n",
    "print(\"Python is \" + x)"
   ]
  },
  {
   "cell_type": "code",
   "execution_count": 2,
   "id": "b06f81d3",
   "metadata": {},
   "outputs": [
    {
     "name": "stdout",
     "output_type": "stream",
     "text": [
      "set()\n",
      "{1, 2, 3, 4, 5, 6}\n",
      "{20, 21, 22, 23, 24, 25, 26, 27, 28, 29}\n",
      "{40, 10, 20, 30}\n",
      "{1, 2, 3}\n"
     ]
    }
   ],
   "source": [
    "set1 = set()\n",
    "set2 = {1, 2, 3, 4, 5, 6}\n",
    "set3 = set([i for i in range(20,30)])\n",
    "set4 = set((10,20,30,40))\n",
    "set5 = set((1, 1, 1, 2, 2, 3))\n",
    "\n",
    "print(set1)\n",
    "print(set2)\n",
    "print(set3)\n",
    "print(set4)\n",
    "print(set5)"
   ]
  },
  {
   "cell_type": "code",
   "execution_count": null,
   "id": "1ed84a37",
   "metadata": {},
   "outputs": [],
   "source": []
  }
 ],
 "metadata": {
  "kernelspec": {
   "display_name": "Python 3 (ipykernel)",
   "language": "python",
   "name": "python3"
  },
  "language_info": {
   "codemirror_mode": {
    "name": "ipython",
    "version": 3
   },
   "file_extension": ".py",
   "mimetype": "text/x-python",
   "name": "python",
   "nbconvert_exporter": "python",
   "pygments_lexer": "ipython3",
   "version": "3.8.13"
  }
 },
 "nbformat": 4,
 "nbformat_minor": 5
}
